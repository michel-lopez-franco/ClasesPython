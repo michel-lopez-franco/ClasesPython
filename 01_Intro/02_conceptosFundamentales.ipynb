{
 "cells": [
  {
   "cell_type": "code",
   "execution_count": null,
   "metadata": {},
   "outputs": [],
   "source": []
  },
  {
   "cell_type": "code",
   "execution_count": null,
   "metadata": {},
   "outputs": [],
   "source": []
  },
  {
   "cell_type": "markdown",
   "metadata": {},
   "source": [
    "# Conceptos Fundamentales de Programación Orientada a Objetos (POO)"
   ]
  },
  {
   "cell_type": "markdown",
   "metadata": {},
   "source": [
    "## Clase y Objeto"
   ]
  },
  {
   "cell_type": "code",
   "execution_count": 1,
   "metadata": {},
   "outputs": [],
   "source": [
    "class Coche:\n",
    "    def __init__(self, marca, modelo):\n",
    "        self.marca = marca\n",
    "        self.modelo = modelo\n",
    "\n",
    "# Objeto (instancia de la clase)\n",
    "mi_coche = Coche(\"Toyota\", \"Corolla\")\n"
   ]
  },
  {
   "cell_type": "markdown",
   "metadata": {},
   "source": [
    "### Atributos y Métodos"
   ]
  },
  {
   "cell_type": "code",
   "execution_count": 2,
   "metadata": {},
   "outputs": [],
   "source": [
    "class Estudiante:\n",
    "    # Atributo de clase\n",
    "    escuela = \"Mi Universidad\"\n",
    "    \n",
    "    def __init__(self, nombre):\n",
    "        # Atributos de instancia\n",
    "        self.nombre = nombre\n",
    "        self.calificaciones = []\n",
    "    \n",
    "    # Método\n",
    "    def agregar_calificacion(self, nota):\n",
    "        self.calificaciones.append(nota)"
   ]
  },
  {
   "cell_type": "code",
   "execution_count": null,
   "metadata": {},
   "outputs": [],
   "source": []
  },
  {
   "cell_type": "markdown",
   "metadata": {},
   "source": [
    "# Los Cuatro Pilares de POO"
   ]
  },
  {
   "cell_type": "markdown",
   "metadata": {},
   "source": [
    "### Encapsulamiento\n",
    "\n",
    "Ocultar los detalles internos y proteger la integridad de los datos."
   ]
  },
  {
   "cell_type": "code",
   "execution_count": 3,
   "metadata": {},
   "outputs": [],
   "source": [
    "class CuentaBancaria:\n",
    "    def __init__(self):\n",
    "        self.__saldo = 0  # Privado\n",
    "        self._titular = \"\" # Protegido\n",
    "    \n",
    "    @property\n",
    "    def saldo(self):\n",
    "        return self.__saldo\n",
    "    \n",
    "    def depositar(self, cantidad):\n",
    "        if cantidad > 0:\n",
    "            self.__saldo += cantidad"
   ]
  },
  {
   "cell_type": "code",
   "execution_count": 25,
   "metadata": {},
   "outputs": [],
   "source": [
    "cuenta1 = CuentaBancaria()"
   ]
  },
  {
   "cell_type": "code",
   "execution_count": 28,
   "metadata": {},
   "outputs": [
    {
     "data": {
      "text/plain": [
       "0"
      ]
     },
     "execution_count": 28,
     "metadata": {},
     "output_type": "execute_result"
    }
   ],
   "source": [
    "cuenta1.saldo #= 1000  # Error"
   ]
  },
  {
   "cell_type": "code",
   "execution_count": 29,
   "metadata": {},
   "outputs": [
    {
     "name": "stdout",
     "output_type": "stream",
     "text": [
      "1000\n"
     ]
    }
   ],
   "source": [
    "cuenta1.depositar(1000)\n",
    "print(cuenta1.saldo)  # 1000"
   ]
  },
  {
   "cell_type": "code",
   "execution_count": null,
   "metadata": {},
   "outputs": [],
   "source": []
  },
  {
   "cell_type": "markdown",
   "metadata": {},
   "source": [
    "### Herencia\n",
    "\n",
    "Permite que una clase herede atributos y métodos de otra."
   ]
  },
  {
   "cell_type": "code",
   "execution_count": null,
   "metadata": {},
   "outputs": [],
   "source": [
    "class Animal:\n",
    "    def __init__(self, nombre):\n",
    "        self.nombre = nombre\n",
    "    \n",
    "    def hacer_sonido(self,a):\n",
    "        pass    \n",
    "\n",
    "class Perro(Animal):\n",
    "    def hacer_sonido(self):\n",
    "        return \"Guau!\"\n",
    "\n",
    "class Gato(Animal):\n",
    "    def hacer_sonido(self):\n",
    "        return \"Miau!\"\n"
   ]
  },
  {
   "cell_type": "markdown",
   "metadata": {},
   "source": [
    "### Polimorfismo\n",
    "\n",
    "Diferentes clases pueden tener métodos con el mismo nombre."
   ]
  },
  {
   "cell_type": "code",
   "execution_count": 10,
   "metadata": {},
   "outputs": [
    {
     "name": "stdout",
     "output_type": "stream",
     "text": [
      "Guau!\n",
      "Miau!\n"
     ]
    }
   ],
   "source": [
    "def hacer_sonar_animal(animal):\n",
    "    return animal.hacer_sonido()\n",
    "\n",
    "perro = Perro(\"Max\")\n",
    "gato = Gato(\"Luna\")\n",
    "\n",
    "print(hacer_sonar_animal(perro))  # Guau!\n",
    "print(hacer_sonar_animal(gato))   # Miau!"
   ]
  },
  {
   "cell_type": "markdown",
   "metadata": {},
   "source": [
    "### Abstracción\n",
    "\n",
    "Simplificar objetos complejos ocultando detalles innecesarios."
   ]
  },
  {
   "cell_type": "code",
   "execution_count": 11,
   "metadata": {},
   "outputs": [],
   "source": [
    "from abc import ABC, abstractmethod\n",
    "\n",
    "class FiguraGeometrica(ABC):\n",
    "    @abstractmethod\n",
    "    def area(self):\n",
    "        pass\n",
    "    \n",
    "    @abstractmethod\n",
    "    def perimetro(self):\n",
    "        pass\n",
    "\n",
    "class Rectangulo(FiguraGeometrica):\n",
    "    def __init__(self, base, altura):\n",
    "        self.base = base\n",
    "        self.altura = altura\n",
    "    \n",
    "    def area(self):\n",
    "        return self.base * self.altura\n",
    "    \n",
    "    def perimetro(self):\n",
    "        return 2 * (self.base + self.altura)"
   ]
  },
  {
   "cell_type": "markdown",
   "metadata": {},
   "source": [
    "## Conceptos Avanzados\n",
    "\n",
    "### Composición\n",
    "\n",
    "Una clase que contiene objetos de otras clases."
   ]
  },
  {
   "cell_type": "code",
   "execution_count": 12,
   "metadata": {},
   "outputs": [],
   "source": [
    "class Motor:\n",
    "    def arrancar(self):\n",
    "        return \"Motor arrancado\"\n",
    "\n",
    "class Coche:\n",
    "    def __init__(self):\n",
    "        self.motor = Motor()  # Composición"
   ]
  },
  {
   "cell_type": "markdown",
   "metadata": {},
   "source": [
    "### Métodos Especiales (Dunder Methods)\n",
    "\n",
    "Los métodos dunder (abreviatura de \"double underscore\" o \"doble guión bajo\") en Python son métodos especiales que comienzan y terminan con dos guiones bajos (__). Estos métodos se utilizan para definir comportamientos especiales de los objetos y permiten que nuestras clases interactúen de manera más natural con el lenguaje."
   ]
  },
  {
   "cell_type": "code",
   "execution_count": 30,
   "metadata": {},
   "outputs": [],
   "source": [
    "class Libro:\n",
    "    def __init__(self, titulo, autor):\n",
    "        self.titulo = titulo\n",
    "        self.autor = autor\n",
    "    \n",
    "    def __str__(self):\n",
    "        return f\"{self.titulo} por {self.autor}\"\n",
    "    \n",
    "    def __len__(self):\n",
    "        return len(self.titulo)"
   ]
  },
  {
   "cell_type": "code",
   "execution_count": 31,
   "metadata": {},
   "outputs": [
    {
     "name": "stdout",
     "output_type": "stream",
     "text": [
      "El principito por Antoine de Saint-Exupéry\n",
      "13\n"
     ]
    }
   ],
   "source": [
    "libro1 = Libro(\"El principito\", \"Antoine de Saint-Exupéry\")\n",
    "print(libro1)  # El principito por Antoine de Saint-Exupéry\n",
    "print(len(libro1))  # 13"
   ]
  },
  {
   "cell_type": "markdown",
   "metadata": {},
   "source": [
    "### Propiedades y Decoradores "
   ]
  },
  {
   "cell_type": "code",
   "execution_count": 37,
   "metadata": {},
   "outputs": [],
   "source": [
    "class Empleado:\n",
    "    def __init__(self):\n",
    "        self._salario = 0\n",
    "\n",
    "    @property\n",
    "    def salario(self):\n",
    "        return self._salario\n",
    "\n",
    "    @salario.setter\n",
    "    def salario(self, valor):\n",
    "        if valor > 0:\n",
    "            self._salario = valor\n",
    "        \n",
    "\n",
    "    @salario.setter\n",
    "    def salario(self, valor):\n",
    "        if valor < -10:\n",
    "            self._salario = valor"
   ]
  },
  {
   "cell_type": "code",
   "execution_count": 38,
   "metadata": {},
   "outputs": [
    {
     "name": "stdout",
     "output_type": "stream",
     "text": [
      "-2000\n"
     ]
    }
   ],
   "source": [
    "juan = Empleado()\n",
    "juan.salario = -2000\n",
    "print(juan.salario)  "
   ]
  },
  {
   "cell_type": "code",
   "execution_count": null,
   "metadata": {},
   "outputs": [
    {
     "name": "stdout",
     "output_type": "stream",
     "text": [
      "1000\n",
      "0\n"
     ]
    }
   ],
   "source": [
    "juan = Empleado()\n",
    "\n",
    "juan.salario = 1000\n",
    "juan.asignar_salario(-2000)\n",
    "\n",
    "print(juan.salario)  # 1000\n",
    "pedro = Empleado()\n",
    "pedro.salario = -2000\n",
    "print(pedro.salario)  # 0"
   ]
  },
  {
   "cell_type": "markdown",
   "metadata": {},
   "source": [
    "### Métodos de Clase y Estáticos"
   ]
  },
  {
   "cell_type": "code",
   "execution_count": 21,
   "metadata": {},
   "outputs": [],
   "source": [
    "class Fecha:\n",
    "    @classmethod\n",
    "    def de_string(cls, fecha_str):\n",
    "        dia, mes, año = map(int, fecha_str.split('-'))\n",
    "        return cls(dia, mes, año)\n",
    "    \n",
    "    @staticmethod\n",
    "    def es_fecha_valida(fecha_str):\n",
    "        try:\n",
    "            dia, mes, año = map(int, fecha_str.split('-'))\n",
    "            return True\n",
    "        except:\n",
    "            return False"
   ]
  },
  {
   "cell_type": "code",
   "execution_count": 20,
   "metadata": {},
   "outputs": [
    {
     "ename": "TypeError",
     "evalue": "Fecha() takes no arguments",
     "output_type": "error",
     "traceback": [
      "\u001b[0;31m---------------------------------------------------------------------------\u001b[0m",
      "\u001b[0;31mTypeError\u001b[0m                                 Traceback (most recent call last)",
      "Cell \u001b[0;32mIn[20], line 1\u001b[0m\n\u001b[0;32m----> 1\u001b[0m fecha1 \u001b[38;5;241m=\u001b[39m \u001b[43mFecha\u001b[49m\u001b[38;5;241;43m.\u001b[39;49m\u001b[43mde_string\u001b[49m\u001b[43m(\u001b[49m\u001b[38;5;124;43m\"\u001b[39;49m\u001b[38;5;124;43m12-05-2021\u001b[39;49m\u001b[38;5;124;43m\"\u001b[39;49m\u001b[43m)\u001b[49m\n\u001b[1;32m      2\u001b[0m \u001b[38;5;28mprint\u001b[39m(fecha1)  \u001b[38;5;66;03m# <__main__.Fecha object at 0x7f6b8d2e9d60>\u001b[39;00m\n",
      "Cell \u001b[0;32mIn[19], line 5\u001b[0m, in \u001b[0;36mFecha.de_string\u001b[0;34m(cls, fecha_str)\u001b[0m\n\u001b[1;32m      2\u001b[0m \u001b[38;5;129m@classmethod\u001b[39m\n\u001b[1;32m      3\u001b[0m \u001b[38;5;28;01mdef\u001b[39;00m \u001b[38;5;21mde_string\u001b[39m(\u001b[38;5;28mcls\u001b[39m, fecha_str):\n\u001b[1;32m      4\u001b[0m     dia, mes, año \u001b[38;5;241m=\u001b[39m \u001b[38;5;28mmap\u001b[39m(\u001b[38;5;28mint\u001b[39m, fecha_str\u001b[38;5;241m.\u001b[39msplit(\u001b[38;5;124m'\u001b[39m\u001b[38;5;124m-\u001b[39m\u001b[38;5;124m'\u001b[39m))\n\u001b[0;32m----> 5\u001b[0m     \u001b[38;5;28;01mreturn\u001b[39;00m \u001b[38;5;28;43mcls\u001b[39;49m\u001b[43m(\u001b[49m\u001b[43mdia\u001b[49m\u001b[43m,\u001b[49m\u001b[43m \u001b[49m\u001b[43mmes\u001b[49m\u001b[43m,\u001b[49m\u001b[43m \u001b[49m\u001b[43maño\u001b[49m\u001b[43m)\u001b[49m\n",
      "\u001b[0;31mTypeError\u001b[0m: Fecha() takes no arguments"
     ]
    }
   ],
   "source": [
    "fecha1 = Fecha.de_string(\"12-05-2021\")\n",
    "print(fecha1)  # <__main__.Fecha object at 0x7f6b8d2e9d60>"
   ]
  },
  {
   "cell_type": "code",
   "execution_count": 22,
   "metadata": {},
   "outputs": [
    {
     "name": "stdout",
     "output_type": "stream",
     "text": [
      "True\n"
     ]
    }
   ],
   "source": [
    "fecha1 = Fecha.es_fecha_valida(\"12-05-2021\")\n",
    "print(fecha1)  # True"
   ]
  },
  {
   "cell_type": "code",
   "execution_count": null,
   "metadata": {},
   "outputs": [],
   "source": []
  },
  {
   "cell_type": "code",
   "execution_count": 24,
   "metadata": {},
   "outputs": [],
   "source": [
    "class Ejemplo:\n",
    "    contador = 0  # Variable de clase\n",
    "    \n",
    "    def __init__(self):\n",
    "        self.x = 0  # Variable de instancia\n",
    "    \n",
    "    @staticmethod\n",
    "    def metodo_estatico():\n",
    "        # No recibe self ni cls\n",
    "        # No puede acceder a atributos de instancia\n",
    "        # No puede acceder a atributos de clase directamente\n",
    "        return \"Método estático\"\n",
    "    \n",
    "    @classmethod\n",
    "    def metodo_clase(cls):\n",
    "        # Recibe la clase como primer parámetro (cls)\n",
    "        # Puede acceder/modificar atributos de clase\n",
    "        cls.contador += 1\n",
    "        return f\"Contador: {cls.contador}\"\n",
    "        \n",
    "    # Uso:\n",
    "    @classmethod\n",
    "    def from_string(cls, str_data):\n",
    "        # Constructor alternativo\n",
    "        x, y = map(int, str_data.split(','))\n",
    "        return cls(x, y)\n",
    "        \n",
    "    @staticmethod\n",
    "    def validar_datos(x, y):\n",
    "        # Utilidad relacionada con la clase\n",
    "        return x > 0 and y > 0"
   ]
  },
  {
   "cell_type": "code",
   "execution_count": 4,
   "metadata": {},
   "outputs": [],
   "source": [
    "import suma"
   ]
  },
  {
   "cell_type": "code",
   "execution_count": 2,
   "metadata": {},
   "outputs": [
    {
     "data": {
      "text/plain": [
       "5"
      ]
     },
     "execution_count": 2,
     "metadata": {},
     "output_type": "execute_result"
    }
   ],
   "source": [
    "suma.suma(2, 3)  # 5"
   ]
  },
  {
   "cell_type": "code",
   "execution_count": 3,
   "metadata": {},
   "outputs": [
    {
     "data": {
      "text/plain": [
       "suma.SumaClase"
      ]
     },
     "execution_count": 3,
     "metadata": {},
     "output_type": "execute_result"
    }
   ],
   "source": [
    "suma.SumaClase"
   ]
  },
  {
   "cell_type": "code",
   "execution_count": null,
   "metadata": {},
   "outputs": [],
   "source": []
  }
 ],
 "metadata": {
  "kernelspec": {
   "display_name": "UP2024",
   "language": "python",
   "name": "python3"
  },
  "language_info": {
   "codemirror_mode": {
    "name": "ipython",
    "version": 3
   },
   "file_extension": ".py",
   "mimetype": "text/x-python",
   "name": "python",
   "nbconvert_exporter": "python",
   "pygments_lexer": "ipython3",
   "version": "3.12.4"
  }
 },
 "nbformat": 4,
 "nbformat_minor": 2
}
