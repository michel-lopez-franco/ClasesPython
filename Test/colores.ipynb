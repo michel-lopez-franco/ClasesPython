{
 "cells": [
  {
   "cell_type": "code",
   "execution_count": null,
   "metadata": {},
   "outputs": [],
   "source": []
  },
  {
   "cell_type": "code",
   "execution_count": null,
   "metadata": {},
   "outputs": [],
   "source": []
  },
  {
   "cell_type": "code",
   "execution_count": 1,
   "metadata": {},
   "outputs": [
    {
     "data": {
      "application/vnd.jupyter.widget-view+json": {
       "model_id": "cb10677ae1514b689108aff74942b40f",
       "version_major": 2,
       "version_minor": 0
      },
      "text/plain": [
       "ColorPicker(value='blue', description='Pick a color:')"
      ]
     },
     "metadata": {},
     "output_type": "display_data"
    }
   ],
   "source": [
    "import ipywidgets as widgets\n",
    "from IPython.display import display\n",
    "\n",
    "color_picker = widgets.ColorPicker(\n",
    "    concise=False,\n",
    "    description='Pick a color:',\n",
    "    value='blue',\n",
    "    disabled=False\n",
    ")\n",
    "display(color_picker)"
   ]
  },
  {
   "cell_type": "markdown",
   "metadata": {},
   "source": [
    "<span style=\"color:#66e0ff\">Texto con color</span>Texto con color"
   ]
  },
  {
   "cell_type": "markdown",
   "metadata": {},
   "source": [
    "```python\n",
    "def colored_text(text, color):\n",
    "    return f'<span style=\"color:{color}\">{text}</span>{text}'\n",
    "\n",
    "# Example usage\n",
    "colored_text('Texto con color', base_color)\n",
    "```"
   ]
  },
  {
   "cell_type": "markdown",
   "metadata": {},
   "source": [
    "No, en las celdas de Markdown no se pueden definir funciones que se puedan utilizar en otras celdas. Las celdas de Markdown están diseñadas para contener texto formateado, descripciones y documentación, pero no pueden ejecutar código. Para definir funciones que se puedan utilizar en otras celdas, debes hacerlo en una celda de código (Python)."
   ]
  },
  {
   "cell_type": "code",
   "execution_count": null,
   "metadata": {},
   "outputs": [],
   "source": []
  },
  {
   "cell_type": "code",
   "execution_count": 3,
   "metadata": {},
   "outputs": [
    {
     "data": {
      "image/png": "[encoded data removed]",
      "text/plain": [
       "<Figure size 1000x100 with 1 Axes>"
      ]
     },
     "metadata": {},
     "output_type": "display_data"
    }
   ],
   "source": [
    "import seaborn as sns\n",
    "\n",
    "import matplotlib.pyplot as plt\n",
    "\n",
    "# Color base\n",
    "base_color = color_picker.value\n",
    "\n",
    "# Generar una paleta de colores que combine con el color base\n",
    "palette = sns.color_palette(\"coolwarm\", 10).as_hex()\n",
    "\n",
    "# Mostrar la paleta de colores\n",
    "sns.palplot(palette)\n",
    "plt.title(f'Palette for base color: {base_color}')\n",
    "plt.show()"
   ]
  },
  {
   "cell_type": "code",
   "execution_count": 5,
   "metadata": {},
   "outputs": [
    {
     "name": "stdout",
     "output_type": "stream",
     "text": [
      "['#5673e0', '#7597f6', '#94b6ff', '#b5cdfa', '#d1dae9', '#e8d6cc', '#f5c1a9', '#f6a283', '#ea7b60', '#d44e41']\n"
     ]
    }
   ],
   "source": [
    "print(palette)"
   ]
  },
  {
   "cell_type": "code",
   "execution_count": 7,
   "metadata": {},
   "outputs": [
    {
     "data": {
      "text/plain": [
       "'#f5c1a9'"
      ]
     },
     "execution_count": 7,
     "metadata": {},
     "output_type": "execute_result"
    }
   ],
   "source": [
    "palette[6]"
   ]
  },
  {
   "cell_type": "code",
   "execution_count": null,
   "metadata": {},
   "outputs": [],
   "source": []
  },
  {
   "cell_type": "code",
   "execution_count": null,
   "metadata": {},
   "outputs": [],
   "source": []
  },
  {
   "cell_type": "markdown",
   "metadata": {},
   "source": [
    "\n",
    "```mermaid\n",
    "graph TD\n",
    "    A[Start] --> B{Is it sunny?}\n",
    "    B -- Yes --> C[Go for a walk]\n",
    "    B -- No --> D[Stay inside]\n",
    "    C --> E[Enjoy the day!]\n",
    "    D --> F[Read a book]\n",
    "\n",
    "    style A fill:#66e0ff,stroke:#333,stroke-width:2px\n",
    "    style B fill:#ffcc00,stroke:#333,stroke-width:2px\n",
    "    style C fill:#66ff66,stroke:#333,stroke-width:2px\n",
    "    style D fill:#ff6666,stroke:#333,stroke-width:2px\n",
    "    style E fill:#66e0ff,stroke:#333,stroke-width:2px\n",
    "    style F fill:#ffcc00,stroke:#333,stroke-width:2px\n",
    "```\n"
   ]
  },
  {
   "cell_type": "markdown",
   "metadata": {},
   "source": []
  }
 ],
 "metadata": {
  "kernelspec": {
   "display_name": "UP2024",
   "language": "python",
   "name": "python3"
  },
  "language_info": {
   "codemirror_mode": {
    "name": "ipython",
    "version": 3
   },
   "file_extension": ".py",
   "mimetype": "text/x-python",
   "name": "python",
   "nbconvert_exporter": "python",
   "pygments_lexer": "ipython3",
   "version": "3.12.4"
  }
 },
 "nbformat": 4,
 "nbformat_minor": 2
}
