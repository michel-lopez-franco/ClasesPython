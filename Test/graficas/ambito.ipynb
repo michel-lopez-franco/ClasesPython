{
 "cells": [
  {
   "cell_type": "code",
   "execution_count": null,
   "metadata": {
    "vscode": {
     "languageId": "plaintext"
    }
   },
   "outputs": [],
   "source": []
  },
  {
   "cell_type": "code",
   "execution_count": null,
   "metadata": {
    "vscode": {
     "languageId": "plaintext"
    }
   },
   "outputs": [],
   "source": []
  },
  {
   "cell_type": "code",
   "execution_count": null,
   "metadata": {
    "vscode": {
     "languageId": "plaintext"
    }
   },
   "outputs": [],
   "source": []
  },
  {
   "cell_type": "markdown",
   "metadata": {},
   "source": []
  },
  {
   "cell_type": "markdown",
   "metadata": {},
   "source": [
    "```markdown\n",
    "\n",
    "```mermaid\n",
    "flowchart TB\n",
    "    subgraph Global [\"Ámbito Global\"]\n",
    "        direction TB\n",
    "        G[contador = 0]\n",
    "        ConfigG[MAX_INTENTOS = 3]\n",
    "        \n",
    "        subgraph FuncionA [\"Función incrementar()\"]\n",
    "            direction TB\n",
    "            A1[global contador]\n",
    "            A2[contador += 1]\n",
    "        end\n",
    "        \n",
    "        subgraph FuncionB [\"Función crear_contador()\"]\n",
    "            direction TB\n",
    "            B1[total = 0]\n",
    "            \n",
    "            subgraph FuncionC [\"Función interna_sumar()\"]\n",
    "                direction TB\n",
    "                C1[nonlocal total]\n",
    "                C2[total += valor]\n",
    "            end\n",
    "        end\n",
    "    end\n",
    "\n",
    "    %% Conexiones\n",
    "    G --> A1\n",
    "    A1 --> A2\n",
    "    B1 --> C1\n",
    "    C1 --> C2\n",
    "\n",
    "    %% Estilos\n",
    "    classDef globalScope fill:#ffcccb,stroke:#333,stroke-width:2px,color:#000;\n",
    "    classDef functionScope fill:#90EE90,stroke:#333,stroke-width:2px,color:#000;\n",
    "    classDef innerScope fill:#87CEEB,stroke:#333,stroke-width:2px,color:#000;\n",
    "    classDef variable fill:#FFE4B5,stroke:#333,stroke-width:1px,color:#000;\n",
    "\n",
    "    class Global globalScope;\n",
    "    class FuncionA,FuncionB functionScope;\n",
    "    class FuncionC innerScope;\n",
    "    class G,ConfigG,A1,A2,B1,C1,C2 variable;\n",
    "```\n",
    "```markdown\n",
    "\n",
    "fin"
   ]
  },
  {
   "cell_type": "markdown",
   "metadata": {},
   "source": [
    "inicio\n",
    "\n",
    "\n",
    "```mermaid\n",
    "flowchart TB\n",
    "    subgraph Global [\"Ámbito Global\"]\n",
    "        direction TB\n",
    "        G[contador = 0]\n",
    "        ConfigG[MAX_INTENTOS = 3]\n",
    "        \n",
    "        subgraph FuncionA [\"Función incrementar()\"]\n",
    "            direction TB\n",
    "            A1[global contador]\n",
    "            A2[contador += 1]\n",
    "        end\n",
    "        \n",
    "        subgraph FuncionB [\"Función crear_contador()\"]\n",
    "            direction TB\n",
    "            B1[total = 0]\n",
    "            \n",
    "            subgraph FuncionC [\"Función interna_sumar()\"]\n",
    "                direction TB\n",
    "                C1[nonlocal total]\n",
    "                C2[total += valor]\n",
    "            end\n",
    "        end\n",
    "    end\n",
    "\n",
    "    %% Conexiones\n",
    "    G --> A1\n",
    "    A1 --> A2\n",
    "    B1 --> C1\n",
    "    C1 --> C2\n",
    "\n",
    "    %% Estilos\n",
    "    classDef globalScope fill:#ffcccb,stroke:#333,stroke-width:2px,color:#000;\n",
    "    classDef functionScope fill:#90EE90,stroke:#333,stroke-width:2px,color:#000;\n",
    "    classDef innerScope fill:#87CEEB,stroke:#333,stroke-width:2px,color:#000;\n",
    "    classDef variable fill:#FFE4B5,stroke:#333,stroke-width:1px,color:#000;\n",
    "\n",
    "    class Global globalScope;\n",
    "    class FuncionA,FuncionB functionScope;\n",
    "    class FuncionC innerScope;\n",
    "    class G,ConfigG,A1,A2,B1,C1,C2 variable;\n",
    "```\n",
    "\n",
    "\n",
    "fin"
   ]
  },
  {
   "cell_type": "code",
   "execution_count": null,
   "metadata": {
    "vscode": {
     "languageId": "plaintext"
    }
   },
   "outputs": [],
   "source": []
  },
  {
   "cell_type": "code",
   "execution_count": null,
   "metadata": {
    "vscode": {
     "languageId": "plaintext"
    }
   },
   "outputs": [],
   "source": []
  },
  {
   "cell_type": "code",
   "execution_count": null,
   "metadata": {
    "vscode": {
     "languageId": "plaintext"
    }
   },
   "outputs": [],
   "source": []
  }
 ],
 "metadata": {
  "language_info": {
   "name": "python"
  }
 },
 "nbformat": 4,
 "nbformat_minor": 2
}
