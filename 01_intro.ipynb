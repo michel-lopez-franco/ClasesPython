{
 "cells": [
  {
   "cell_type": "markdown",
   "metadata": {},
   "source": [
    "# Introducción a python "
   ]
  },
  {
   "cell_type": "markdown",
   "metadata": {},
   "source": [
    "## Variables"
   ]
  },
  {
   "cell_type": "code",
   "execution_count": 44,
   "metadata": {},
   "outputs": [
    {
     "name": "stdout",
     "output_type": "stream",
     "text": [
      "5\n"
     ]
    }
   ],
   "source": [
    "a = 5\n",
    "print(a)"
   ]
  },
  {
   "cell_type": "code",
   "execution_count": 45,
   "metadata": {},
   "outputs": [
    {
     "data": {
      "text/plain": [
       "int"
      ]
     },
     "execution_count": 45,
     "metadata": {},
     "output_type": "execute_result"
    }
   ],
   "source": [
    "type(a)"
   ]
  },
  {
   "cell_type": "code",
   "execution_count": 46,
   "metadata": {},
   "outputs": [
    {
     "data": {
      "text/plain": [
       "5"
      ]
     },
     "execution_count": 46,
     "metadata": {},
     "output_type": "execute_result"
    }
   ],
   "source": [
    "a"
   ]
  },
  {
   "cell_type": "code",
   "execution_count": 47,
   "metadata": {},
   "outputs": [],
   "source": [
    "entero = 5\n",
    "flotante = 5.0\n",
    "cadena = \"5\" #cadena = '5' cadena = \"\"\"5\"\"\" cadena = '''5'''\n",
    "lista = [5,5]\n",
    "tupla = (5,5)\n",
    "diccionario = {5:5}\n",
    "conjunto = {5,6,5}\n"
   ]
  },
  {
   "cell_type": "code",
   "execution_count": 48,
   "metadata": {},
   "outputs": [
    {
     "name": "stdout",
     "output_type": "stream",
     "text": [
      "5\n",
      "5.0\n",
      "5\n",
      "[5, 5]\n",
      "(5, 5)\n",
      "{5: 5}\n",
      "{5, 6}\n"
     ]
    }
   ],
   "source": [
    "print(entero)\n",
    "print(flotante)\n",
    "print(cadena)\n",
    "print(lista)\n",
    "print(tupla)\n",
    "print(diccionario)\n",
    "print(conjunto)\n",
    "    "
   ]
  },
  {
   "cell_type": "code",
   "execution_count": 49,
   "metadata": {},
   "outputs": [
    {
     "name": "stdout",
     "output_type": "stream",
     "text": [
      "<class 'int'>\n",
      "<class 'float'>\n",
      "<class 'str'>\n",
      "<class 'list'>\n",
      "<class 'tuple'>\n",
      "<class 'dict'>\n",
      "<class 'set'>\n"
     ]
    }
   ],
   "source": [
    "print(type(entero))\n",
    "print(type(flotante))\n",
    "print(type(cadena))\n",
    "print(type(lista))\n",
    "print(type(tupla))\n",
    "print(type(diccionario))\n",
    "print(type(conjunto))"
   ]
  },
  {
   "cell_type": "code",
   "execution_count": null,
   "metadata": {},
   "outputs": [],
   "source": []
  },
  {
   "cell_type": "markdown",
   "metadata": {},
   "source": [
    "## Convenciones de nomenclatura muy utilizadas en programación\n",
    "\n",
    "```python\n",
    "# 1. Snake Case (recomendado para Python)\n",
    "nombre_usuario = \"Juan\"        # Variables\n",
    "calcular_total = \"función\"     # Funciones\n",
    "mi_constante = 3.14           # Constantes\n",
    "\n",
    "# 2. Camel Case (común en Java/JavaScript)\n",
    "nombreUsuario = \"Juan\"\n",
    "calcularTotal = \"función\"\n",
    "\n",
    "# 3. SCREAMING_SNAKE_CASE (para constantes)\n",
    "MAX_INTENTOS = 3\n",
    "PI_VALOR = 3.14159\n",
    "DIAS_SEMANA = 7\n",
    "```\n",
    "\n",
    "### Recomendaciones finales:\n",
    "\n",
    "- Sé consistente: Usa el mismo estilo en todo tu código\n",
    "- Sé descriptivo: Los nombres deben explicar qué contiene la variable\n",
    "- Sé conciso: Evita nombres innecesariamente largos\n",
    "- Evita caracteres especiales: Usa solo letras, números y guiones bajos"
   ]
  },
  {
   "cell_type": "markdown",
   "metadata": {},
   "source": [
    "## Strings"
   ]
  },
  {
   "cell_type": "code",
   "execution_count": 50,
   "metadata": {},
   "outputs": [
    {
     "name": "stdout",
     "output_type": "stream",
     "text": [
      "Hola mundo!\n",
      "H\n",
      "hola mundo!\n",
      "HOLA MUNDO!\n",
      "['Hola', 'mundo!']\n"
     ]
    }
   ],
   "source": [
    "saludo = \"Hola mundo!\"\n",
    "print(saludo)\n",
    "print(saludo[0])\n",
    "print(saludo.lower())\n",
    "print(saludo.upper())\n",
    "print(saludo.split()) # Nota: split que tipo de dato regresa?  "
   ]
  },
  {
   "cell_type": "code",
   "execution_count": null,
   "metadata": {},
   "outputs": [],
   "source": []
  },
  {
   "cell_type": "markdown",
   "metadata": {},
   "source": [
    "## Listas vs Tuplas"
   ]
  },
  {
   "cell_type": "code",
   "execution_count": 51,
   "metadata": {},
   "outputs": [
    {
     "name": "stdout",
     "output_type": "stream",
     "text": [
      "[]\n",
      "[1, 3, 4]\n",
      "()\n",
      "(1, 3, 4)\n"
     ]
    }
   ],
   "source": [
    "lista = []\n",
    "tupla = ()\n",
    "lista2 = [1,3,4]\n",
    "tupla2 = (1,3,4)\n",
    "\n",
    "print(lista)\n",
    "print(lista2)\n",
    "print(tupla)\n",
    "print(tupla2)\n"
   ]
  },
  {
   "cell_type": "markdown",
   "metadata": {},
   "source": [
    "## Tipos de datos mutables\n",
    "\n",
    "Los tipos de datos mutables son aquellos que pueden cambiar su contenido sin cambiar su identidad. Ejemplos de tipos de datos mutables incluyen:\n",
    "\n",
    "- Listas (list)\n",
    "- Diccionarios (dict)\n",
    "- Conjuntos (set)\n",
    "- Bytearrays (bytearray)\n",
    "\n",
    "\n",
    "## Tipos de datos no mutables\n",
    "\n",
    "Los tipos de datos no mutables son aquellos cuyo contenido no puede cambiar una vez que se han creado. Ejemplos de tipos de datos no mutables incluyen:\n",
    "\n",
    "- Enteros (int)\n",
    "- Flotantes (float)\n",
    "- Cadenas de texto (str)\n",
    "- Tuplas (tuple)\n",
    "- Conjuntos inmutables (frozenset)\n",
    "- Bytes (bytes)\n",
    "\n"
   ]
  },
  {
   "cell_type": "code",
   "execution_count": 52,
   "metadata": {},
   "outputs": [
    {
     "name": "stdout",
     "output_type": "stream",
     "text": [
      "[1, 2]\n",
      "[1, 2, 3]\n"
     ]
    }
   ],
   "source": [
    "# Mutabilidad\n",
    "lista = [] \n",
    "\n",
    "lista.append(1)\n",
    "lista.append(2)\n",
    "print(lista)\n",
    "\n",
    "lista.append(3)\n",
    "print(lista)\n"
   ]
  },
  {
   "cell_type": "code",
   "execution_count": 53,
   "metadata": {},
   "outputs": [
    {
     "ename": "AttributeError",
     "evalue": "'tuple' object has no attribute 'append'",
     "output_type": "error",
     "traceback": [
      "\u001b[1;31m---------------------------------------------------------------------------\u001b[0m",
      "\u001b[1;31mAttributeError\u001b[0m                            Traceback (most recent call last)",
      "Cell \u001b[1;32mIn[53], line 3\u001b[0m\n\u001b[0;32m      1\u001b[0m tupla \u001b[38;5;241m=\u001b[39m ()\n\u001b[1;32m----> 3\u001b[0m tupla\u001b[38;5;241m.\u001b[39mappend(\u001b[38;5;241m1\u001b[39m)\n",
      "\u001b[1;31mAttributeError\u001b[0m: 'tuple' object has no attribute 'append'"
     ]
    }
   ],
   "source": [
    "tupla = ()\n",
    "\n",
    "tupla.append(1) # Nota: Por que marca error?"
   ]
  },
  {
   "cell_type": "code",
   "execution_count": 54,
   "metadata": {},
   "outputs": [
    {
     "name": "stdout",
     "output_type": "stream",
     "text": [
      "()\n",
      "(1, 2, 3)\n"
     ]
    }
   ],
   "source": [
    "tupla = ()\n",
    "print(tupla)\n",
    "tupla = (1,2,3)\n",
    "\n",
    "print(tupla)"
   ]
  },
  {
   "cell_type": "code",
   "execution_count": 55,
   "metadata": {},
   "outputs": [
    {
     "name": "stdout",
     "output_type": "stream",
     "text": [
      "lista: []\n",
      "lista: [1, 2]\n",
      "lista: [1, 2, 3]\n"
     ]
    }
   ],
   "source": [
    "# Descomenta las siguientes lineas para ver el ejemplo de mutabilidad\n",
    "lista = [] \n",
    "\n",
    "print(f\"lista: {lista}\") \n",
    "##print (f\"id_lista: {id(lista)} \") # id es un identificador unico de la variable lista\n",
    "\n",
    "lista.append(1)\n",
    "lista.append(2)\n",
    "print(f\"lista: {lista}\") \n",
    "##print (f\"id_lista: {id(lista)} \")\n",
    "\n",
    "lista.append(3)\n",
    "print(f\"lista: {lista}\") \n",
    "##print (f\"id_lista: {id(lista)} \")"
   ]
  },
  {
   "cell_type": "code",
   "execution_count": 56,
   "metadata": {},
   "outputs": [
    {
     "name": "stdout",
     "output_type": "stream",
     "text": [
      "tupla: ()\n",
      "id_tupla: 140706054977208\n",
      "tupla: (1, 2, 3)\n",
      "id_tupla_nueva: 2291428240256\n"
     ]
    }
   ],
   "source": [
    "tupla = ()\n",
    "\n",
    "print(f\"tupla: {tupla}\")\n",
    "print(f\"id_tupla: {id(tupla)}\")\n",
    "\n",
    "tupla = (1, 2, 3)\n",
    "\n",
    "print(f\"tupla: {tupla}\")\n",
    "print(f\"id_tupla_nueva: {id(tupla)}\")"
   ]
  },
  {
   "cell_type": "markdown",
   "metadata": {},
   "source": [
    " Las tuplas son inmutables y cualquier cambio resulta en un nuevo objeto con un nuevo id"
   ]
  },
  {
   "cell_type": "code",
   "execution_count": 57,
   "metadata": {},
   "outputs": [
    {
     "name": "stdout",
     "output_type": "stream",
     "text": [
      "primer elemento de la lista: 1\n",
      "primer elemento de la tupla: 1\n"
     ]
    }
   ],
   "source": [
    "lista = [1,2,3,4,5,6,7,8,9,10]\n",
    "tupla = (1,2,3,4,5,6,7,8,9,10)\n",
    "\n",
    "print(f\"primer elemento de la lista: {lista[0]}\")\n",
    "print(f\"primer elemento de la tupla: {tupla[0]}\")\n",
    "\n"
   ]
  },
  {
   "cell_type": "markdown",
   "metadata": {},
   "source": [
    "### Mostrar el ultimo elemento"
   ]
  },
  {
   "cell_type": "code",
   "execution_count": 58,
   "metadata": {},
   "outputs": [
    {
     "data": {
      "text/plain": [
       "(10, 10)"
      ]
     },
     "execution_count": 58,
     "metadata": {},
     "output_type": "execute_result"
    }
   ],
   "source": [
    "len(lista), len(tupla)"
   ]
  },
  {
   "cell_type": "code",
   "execution_count": 59,
   "metadata": {},
   "outputs": [
    {
     "data": {
      "text/plain": [
       "(10, 10)"
      ]
     },
     "execution_count": 59,
     "metadata": {},
     "output_type": "execute_result"
    }
   ],
   "source": [
    "lista[len(lista)-1], tupla[len(tupla)-1]"
   ]
  },
  {
   "cell_type": "code",
   "execution_count": 60,
   "metadata": {},
   "outputs": [
    {
     "name": "stdout",
     "output_type": "stream",
     "text": [
      "ultimo elemento de la lista: 10\n",
      "ultimo elemento de la tupla: 10\n"
     ]
    }
   ],
   "source": [
    "print(f\"ultimo elemento de la lista: {lista[-1]}\")\n",
    "print(f\"ultimo elemento de la tupla: {tupla[-1]}\")"
   ]
  },
  {
   "cell_type": "code",
   "execution_count": null,
   "metadata": {},
   "outputs": [],
   "source": []
  },
  {
   "cell_type": "code",
   "execution_count": null,
   "metadata": {},
   "outputs": [],
   "source": []
  },
  {
   "cell_type": "code",
   "execution_count": null,
   "metadata": {},
   "outputs": [],
   "source": []
  }
 ],
 "metadata": {
  "kernelspec": {
   "display_name": "fastAPI",
   "language": "python",
   "name": "python3"
  },
  "language_info": {
   "codemirror_mode": {
    "name": "ipython",
    "version": 3
   },
   "file_extension": ".py",
   "mimetype": "text/x-python",
   "name": "python",
   "nbconvert_exporter": "python",
   "pygments_lexer": "ipython3",
   "version": "3.12.2"
  }
 },
 "nbformat": 4,
 "nbformat_minor": 2
}
